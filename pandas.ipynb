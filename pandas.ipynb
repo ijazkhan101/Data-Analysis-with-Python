{
 "cells": [
  {
   "cell_type": "code",
   "execution_count": 1,
   "metadata": {},
   "outputs": [
    {
     "name": "stdout",
     "output_type": "stream",
     "text": [
      "       Certificates  Time (in months)  Longest streak\n",
      "Tom               8                16              13\n",
      "Kris              2                 5              11\n",
      "Ahmad             5                 9               9\n",
      "Beau              6                12               7\n"
     ]
    }
   ],
   "source": [
    "import pandas as pd\n",
    "\n",
    "certificates_earned = pd.DataFrame({\n",
    "    'Certificates': [8, 2, 5, 6],\n",
    "    'Time (in months)': [16, 5, 9, 12]\n",
    "})\n",
    "names = ['Tom', 'Kris', 'Ahmad', 'Beau']\n",
    "\n",
    "certificates_earned.index = names\n",
    "longest_streak = pd.Series([13, 11, 9, 7], index=names)\n",
    "certificates_earned['Longest streak'] = longest_streak\n",
    "\n",
    "print(certificates_earned)"
   ]
  }
 ],
 "metadata": {
  "kernelspec": {
   "display_name": "jazz",
   "language": "python",
   "name": "python3"
  },
  "language_info": {
   "codemirror_mode": {
    "name": "ipython",
    "version": 3
   },
   "file_extension": ".py",
   "mimetype": "text/x-python",
   "name": "python",
   "nbconvert_exporter": "python",
   "pygments_lexer": "ipython3",
   "version": "3.10.8"
  },
  "orig_nbformat": 4,
  "vscode": {
   "interpreter": {
    "hash": "836c7a803e62df638fdb1bd403a0bb0c86242d4bee87d0bafcdb520cf7232eeb"
   }
  }
 },
 "nbformat": 4,
 "nbformat_minor": 2
}
